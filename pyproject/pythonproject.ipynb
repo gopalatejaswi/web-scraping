{
 "cells": [
  {
   "cell_type": "code",
   "execution_count": 1,
   "metadata": {},
   "outputs": [],
   "source": [
    "import requests\n",
    "from bs4 import BeautifulSoup\n",
    "import sqlite3"
   ]
  },
  {
   "cell_type": "code",
   "execution_count": 2,
   "metadata": {},
   "outputs": [],
   "source": [
    "def scrape_website(url):\n",
    "    try:\n",
    "        headers = {\"User-Agent\": \"Mozilla/5.0\"}  # Prevent blocking\n",
    "        response = requests.get(url, headers=headers)\n",
    "        response.raise_for_status()\n",
    "    except requests.exceptions.RequestException as e:\n",
    "        print(f\"Error fetching the website: {e}\")\n",
    "        return []\n",
    "    \n",
    "    try:\n",
    "        soup = BeautifulSoup(response.text, 'html.parser')\n",
    "        products = []\n",
    "        \n",
    "        for item in soup.select('article.product_pod'):  # Updated selector for books\n",
    "            title = item.h3.a['title'] if item.h3.a else 'N/A'\n",
    "            price = item.select_one('.price_color').get_text(strip=True) if item.select_one('.price_color') else 'N/A'\n",
    "            link = \"https://books.toscrape.com/\" + item.h3.a['href'] if item.h3.a else 'N/A'\n",
    "            \n",
    "            products.append((title, price, link))  # Store as tuple for database insertion\n",
    "        \n",
    "        return products\n",
    "    except Exception as e:\n",
    "        print(f\"Error parsing HTML: {e}\")\n",
    "        return []\n"
   ]
  },
  {
   "cell_type": "code",
   "execution_count": 3,
   "metadata": {},
   "outputs": [],
   "source": [
    "\n",
    "def store_in_database(data, db_name=\"books.db\"):\n",
    "    if not data:\n",
    "        print(\"No data to store.\")\n",
    "        return\n",
    "    \n",
    "    try:\n",
    "        conn = sqlite3.connect(db_name)\n",
    "        cursor = conn.cursor()\n",
    "        \n",
    "        cursor.execute('''\n",
    "            CREATE TABLE IF NOT EXISTS books (\n",
    "                id INTEGER PRIMARY KEY AUTOINCREMENT,\n",
    "                title TEXT,\n",
    "                price TEXT,\n",
    "                link TEXT\n",
    "            )\n",
    "        ''')\n",
    "        \n",
    "        cursor.executemany(\"INSERT INTO books (title, price, link) VALUES (?, ?, ?)\", data)\n",
    "        \n",
    "        conn.commit()\n",
    "    except sqlite3.Error as e:\n",
    "        print(f\"Database error: {e}\")\n",
    "    except Exception as e:\n",
    "        print(f\"Unexpected error: {e}\")\n",
    "    finally:\n",
    "        conn.close()\n",
    "        print(f\"Data stored in {db_name}\")"
   ]
  },
  {
   "cell_type": "code",
   "execution_count": 4,
   "metadata": {},
   "outputs": [
    {
     "name": "stdout",
     "output_type": "stream",
     "text": [
      "Data stored in books.db\n"
     ]
    }
   ],
   "source": [
    "\n",
    "def main():\n",
    "    url = \"https://books.toscrape.com/\"\n",
    "    data = scrape_website(url)\n",
    "    store_in_database(data)\n",
    "\n",
    "if __name__ == \"__main__\":\n",
    "    main()"
   ]
  },
  {
   "cell_type": "code",
   "execution_count": 6,
   "metadata": {},
   "outputs": [
    {
     "name": "stdout",
     "output_type": "stream",
     "text": [
      "(1, 'A Light in the Attic', 'Â£51.77', 'https://books.toscrape.com/catalogue/a-light-in-the-attic_1000/index.html')\n",
      "(2, 'Tipping the Velvet', 'Â£53.74', 'https://books.toscrape.com/catalogue/tipping-the-velvet_999/index.html')\n",
      "(3, 'Soumission', 'Â£50.10', 'https://books.toscrape.com/catalogue/soumission_998/index.html')\n",
      "(4, 'Sharp Objects', 'Â£47.82', 'https://books.toscrape.com/catalogue/sharp-objects_997/index.html')\n",
      "(5, 'Sapiens: A Brief History of Humankind', 'Â£54.23', 'https://books.toscrape.com/catalogue/sapiens-a-brief-history-of-humankind_996/index.html')\n",
      "(6, 'The Requiem Red', 'Â£22.65', 'https://books.toscrape.com/catalogue/the-requiem-red_995/index.html')\n",
      "(7, 'The Dirty Little Secrets of Getting Your Dream Job', 'Â£33.34', 'https://books.toscrape.com/catalogue/the-dirty-little-secrets-of-getting-your-dream-job_994/index.html')\n",
      "(8, 'The Coming Woman: A Novel Based on the Life of the Infamous Feminist, Victoria Woodhull', 'Â£17.93', 'https://books.toscrape.com/catalogue/the-coming-woman-a-novel-based-on-the-life-of-the-infamous-feminist-victoria-woodhull_993/index.html')\n",
      "(9, 'The Boys in the Boat: Nine Americans and Their Epic Quest for Gold at the 1936 Berlin Olympics', 'Â£22.60', 'https://books.toscrape.com/catalogue/the-boys-in-the-boat-nine-americans-and-their-epic-quest-for-gold-at-the-1936-berlin-olympics_992/index.html')\n",
      "(10, 'The Black Maria', 'Â£52.15', 'https://books.toscrape.com/catalogue/the-black-maria_991/index.html')\n",
      "(11, 'Starving Hearts (Triangular Trade Trilogy, #1)', 'Â£13.99', 'https://books.toscrape.com/catalogue/starving-hearts-triangular-trade-trilogy-1_990/index.html')\n",
      "(12, \"Shakespeare's Sonnets\", 'Â£20.66', 'https://books.toscrape.com/catalogue/shakespeares-sonnets_989/index.html')\n",
      "(13, 'Set Me Free', 'Â£17.46', 'https://books.toscrape.com/catalogue/set-me-free_988/index.html')\n",
      "(14, \"Scott Pilgrim's Precious Little Life (Scott Pilgrim #1)\", 'Â£52.29', 'https://books.toscrape.com/catalogue/scott-pilgrims-precious-little-life-scott-pilgrim-1_987/index.html')\n",
      "(15, 'Rip it Up and Start Again', 'Â£35.02', 'https://books.toscrape.com/catalogue/rip-it-up-and-start-again_986/index.html')\n",
      "(16, 'Our Band Could Be Your Life: Scenes from the American Indie Underground, 1981-1991', 'Â£57.25', 'https://books.toscrape.com/catalogue/our-band-could-be-your-life-scenes-from-the-american-indie-underground-1981-1991_985/index.html')\n",
      "(17, 'Olio', 'Â£23.88', 'https://books.toscrape.com/catalogue/olio_984/index.html')\n",
      "(18, 'Mesaerion: The Best Science Fiction Stories 1800-1849', 'Â£37.59', 'https://books.toscrape.com/catalogue/mesaerion-the-best-science-fiction-stories-1800-1849_983/index.html')\n",
      "(19, 'Libertarianism for Beginners', 'Â£51.33', 'https://books.toscrape.com/catalogue/libertarianism-for-beginners_982/index.html')\n",
      "(20, \"It's Only the Himalayas\", 'Â£45.17', 'https://books.toscrape.com/catalogue/its-only-the-himalayas_981/index.html')\n"
     ]
    }
   ],
   "source": [
    "def view_data(db_name=\"books.db\"):\n",
    "    try:\n",
    "        conn = sqlite3.connect(db_name)\n",
    "        cursor = conn.cursor()\n",
    "        \n",
    "        cursor.execute(\"SELECT * FROM books\")\n",
    "        rows = cursor.fetchall()\n",
    "        \n",
    "        if rows:\n",
    "            for row in rows:\n",
    "                print(row)\n",
    "        else:\n",
    "            print(\"No data found in the database.\")\n",
    "        \n",
    "    except sqlite3.Error as e:\n",
    "        print(f\"Database error: {e}\")\n",
    "    except Exception as e:\n",
    "        print(f\"Unexpected error: {e}\")\n",
    "    finally:\n",
    "        conn.close()\n",
    "view_data()"
   ]
  },
  {
   "cell_type": "code",
   "execution_count": 7,
   "metadata": {},
   "outputs": [
    {
     "name": "stdout",
     "output_type": "stream",
     "text": [
      "Data integrity verified ✅\n"
     ]
    }
   ],
   "source": [
    "def validate_data():\n",
    "    conn = sqlite3.connect(\"books.db\")\n",
    "    cursor = conn.cursor()\n",
    "    cursor.execute(\"SELECT COUNT(*) FROM books\")\n",
    "    db_count = cursor.fetchone()[0]\n",
    "    \n",
    "    scraped_data = scrape_website(\"https://books.toscrape.com/\")\n",
    "    \n",
    "    if db_count == len(scraped_data):\n",
    "        print(\"Data integrity verified ✅\")\n",
    "    else:\n",
    "        print(f\"Mismatch! DB: {db_count}, Scraped: {len(scraped_data)} ❌\")\n",
    "\n",
    "    conn.close()\n",
    "\n",
    "validate_data()"
   ]
  },
  {
   "cell_type": "code",
   "execution_count": null,
   "metadata": {},
   "outputs": [],
   "source": []
  }
 ],
 "metadata": {
  "kernelspec": {
   "display_name": "Python 3",
   "language": "python",
   "name": "python3"
  },
  "language_info": {
   "codemirror_mode": {
    "name": "ipython",
    "version": 3
   },
   "file_extension": ".py",
   "mimetype": "text/x-python",
   "name": "python",
   "nbconvert_exporter": "python",
   "pygments_lexer": "ipython3",
   "version": "3.13.2"
  }
 },
 "nbformat": 4,
 "nbformat_minor": 2
}
